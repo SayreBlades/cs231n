{
 "cells": [
  {
   "cell_type": "markdown",
   "metadata": {},
   "source": [
    "# Softmax exercise\n",
    "\n",
    "*Complete and hand in this completed worksheet (including its outputs and any supporting code outside of the worksheet) with your assignment submission. For more details see the [assignments page](http://vision.stanford.edu/teaching/cs231n/assignments.html) on the course website.*\n",
    "\n",
    "This exercise is analogous to the SVM exercise. You will:\n",
    "\n",
    "- implement a fully-vectorized **loss function** for the Softmax classifier\n",
    "- implement the fully-vectorized expression for its **analytic gradient**\n",
    "- **check your implementation** with numerical gradient\n",
    "- use a validation set to **tune the learning rate and regularization** strength\n",
    "- **optimize** the loss function with **SGD**\n",
    "- **visualize** the final learned weights\n"
   ]
  },
  {
   "cell_type": "code",
   "execution_count": 5,
   "metadata": {
    "collapsed": false
   },
   "outputs": [],
   "source": [
    "import random\n",
    "import numpy as np\n",
    "from cs231n.data_utils import load_CIFAR10\n",
    "import matplotlib.pyplot as plt\n",
    "%matplotlib inline\n",
    "plt.rcParams['figure.figsize'] = (10.0, 8.0) # set default size of plots\n",
    "plt.rcParams['image.interpolation'] = 'nearest'\n",
    "plt.rcParams['image.cmap'] = 'gray'\n",
    "\n",
    "# for auto-reloading extenrnal modules\n",
    "# see http://stackoverflow.com/questions/1907993/autoreload-of-modules-in-ipython\n",
    "%load_ext autoreload\n",
    "%autoreload 2"
   ]
  },
  {
   "cell_type": "code",
   "execution_count": 6,
   "metadata": {
    "collapsed": false
   },
   "outputs": [
    {
     "name": "stdout",
     "output_type": "stream",
     "text": [
      "Train data shape:  (49000, 3073)\n",
      "Train labels shape:  (49000,)\n",
      "Validation data shape:  (1000, 3073)\n",
      "Validation labels shape:  (1000,)\n",
      "Test data shape:  (1000, 3073)\n",
      "Test labels shape:  (1000,)\n",
      "dev data shape:  (500, 3073)\n",
      "dev labels shape:  (500,)\n"
     ]
    }
   ],
   "source": [
    "def get_CIFAR10_data(num_training=49000, num_validation=1000, num_test=1000, num_dev=500):\n",
    "  \"\"\"\n",
    "  Load the CIFAR-10 dataset from disk and perform preprocessing to prepare\n",
    "  it for the linear classifier. These are the same steps as we used for the\n",
    "  SVM, but condensed to a single function.  \n",
    "  \"\"\"\n",
    "  # Load the raw CIFAR-10 data\n",
    "  cifar10_dir = 'cs231n/datasets/cifar-10-batches-py'\n",
    "  X_train, y_train, X_test, y_test = load_CIFAR10(cifar10_dir)\n",
    "  \n",
    "  # subsample the data\n",
    "  mask = range(num_training, num_training + num_validation)\n",
    "  X_val = X_train[mask]\n",
    "  y_val = y_train[mask]\n",
    "  mask = range(num_training)\n",
    "  X_train = X_train[mask]\n",
    "  y_train = y_train[mask]\n",
    "  mask = range(num_test)\n",
    "  X_test = X_test[mask]\n",
    "  y_test = y_test[mask]\n",
    "  mask = np.random.choice(num_training, num_dev, replace=False)\n",
    "  X_dev = X_train[mask]\n",
    "  y_dev = y_train[mask]\n",
    "  \n",
    "  # Preprocessing: reshape the image data into rows\n",
    "  X_train = np.reshape(X_train, (X_train.shape[0], -1))\n",
    "  X_val = np.reshape(X_val, (X_val.shape[0], -1))\n",
    "  X_test = np.reshape(X_test, (X_test.shape[0], -1))\n",
    "  X_dev = np.reshape(X_dev, (X_dev.shape[0], -1))\n",
    "  \n",
    "  # Normalize the data: subtract the mean image\n",
    "  mean_image = np.mean(X_train, axis = 0)\n",
    "  X_train -= mean_image\n",
    "  X_val -= mean_image\n",
    "  X_test -= mean_image\n",
    "  X_dev -= mean_image\n",
    "  \n",
    "  # add bias dimension and transform into columns\n",
    "  X_train = np.hstack([X_train, np.ones((X_train.shape[0], 1))])\n",
    "  X_val = np.hstack([X_val, np.ones((X_val.shape[0], 1))])\n",
    "  X_test = np.hstack([X_test, np.ones((X_test.shape[0], 1))])\n",
    "  X_dev = np.hstack([X_dev, np.ones((X_dev.shape[0], 1))])\n",
    "  \n",
    "  return X_train, y_train, X_val, y_val, X_test, y_test, X_dev, y_dev\n",
    "\n",
    "\n",
    "# Invoke the above function to get our data.\n",
    "X_train, y_train, X_val, y_val, X_test, y_test, X_dev, y_dev = get_CIFAR10_data()\n",
    "print 'Train data shape: ', X_train.shape\n",
    "print 'Train labels shape: ', y_train.shape\n",
    "print 'Validation data shape: ', X_val.shape\n",
    "print 'Validation labels shape: ', y_val.shape\n",
    "print 'Test data shape: ', X_test.shape\n",
    "print 'Test labels shape: ', y_test.shape\n",
    "print 'dev data shape: ', X_dev.shape\n",
    "print 'dev labels shape: ', y_dev.shape"
   ]
  },
  {
   "cell_type": "markdown",
   "metadata": {},
   "source": [
    "## Softmax Classifier\n",
    "\n",
    "Your code for this section will all be written inside **cs231n/classifiers/softmax.py**. \n"
   ]
  },
  {
   "cell_type": "code",
   "execution_count": 7,
   "metadata": {
    "collapsed": false
   },
   "outputs": [
    {
     "name": "stdout",
     "output_type": "stream",
     "text": [
      "loss: 2.382180\n",
      "sanity check: 2.302585\n"
     ]
    }
   ],
   "source": [
    "# First implement the naive softmax loss function with nested loops.\n",
    "# Open the file cs231n/classifiers/softmax.py and implement the\n",
    "# softmax_loss_naive function.\n",
    "\n",
    "from cs231n.classifiers.softmax import softmax_loss_naive\n",
    "import time\n",
    "\n",
    "# Generate a random softmax weight matrix and use it to compute the loss.\n",
    "W = np.random.randn(3073, 10) * 0.0001\n",
    "loss, grad = softmax_loss_naive(W, X_dev, y_dev, 0.0)\n",
    "\n",
    "# As a rough sanity check, our loss should be something close to -log(0.1).\n",
    "print 'loss: %f' % loss\n",
    "print 'sanity check: %f' % (-np.log(0.1))"
   ]
  },
  {
   "cell_type": "markdown",
   "metadata": {},
   "source": [
    "## Inline Question 1:\n",
    "Why do we expect our loss to be close to -log(0.1)? Explain briefly.**\n",
    "\n",
    "**Your answer:** *Fill this in*\n"
   ]
  },
  {
   "cell_type": "code",
   "execution_count": 8,
   "metadata": {
    "collapsed": false
   },
   "outputs": [
    {
     "name": "stdout",
     "output_type": "stream",
     "text": [
      "numerical: -0.169760 analytic: -0.169761, relative error: 2.384856e-07\n",
      "numerical: 2.169033 analytic: 2.169033, relative error: 1.236242e-08\n",
      "numerical: -2.076425 analytic: -2.076425, relative error: 3.816785e-08\n",
      "numerical: -0.705617 analytic: -0.705617, relative error: 1.766719e-08\n",
      "numerical: -1.997699 analytic: -1.997699, relative error: 2.041527e-09\n",
      "numerical: -2.521891 analytic: -2.521892, relative error: 7.624003e-09\n",
      "numerical: 1.993472 analytic: 1.993471, relative error: 3.990098e-08\n",
      "numerical: 2.996737 analytic: 2.996737, relative error: 4.413895e-09\n",
      "numerical: 1.602786 analytic: 1.602786, relative error: 1.065413e-08\n",
      "numerical: 0.566679 analytic: 0.566679, relative error: 1.072479e-08\n",
      "numerical: -0.576357 analytic: -0.571280, relative error: 4.424394e-03\n",
      "numerical: 0.979281 analytic: 0.983598, relative error: 2.199407e-03\n",
      "numerical: 0.393823 analytic: 0.395470, relative error: 2.086608e-03\n",
      "numerical: -2.306405 analytic: -2.307507, relative error: 2.388190e-04\n",
      "numerical: 1.927469 analytic: 1.930622, relative error: 8.172442e-04\n",
      "numerical: 1.859402 analytic: 1.855494, relative error: 1.051990e-03\n",
      "numerical: 0.765983 analytic: 0.777605, relative error: 7.529245e-03\n",
      "numerical: -1.777605 analytic: -1.767668, relative error: 2.802983e-03\n",
      "numerical: -1.928575 analytic: -1.944597, relative error: 4.136833e-03\n",
      "numerical: -0.169284 analytic: -0.161226, relative error: 2.437986e-02\n"
     ]
    }
   ],
   "source": [
    "#### Complete the implementation of softmax_loss_naive and implement a (naive)\n",
    "# version of the gradient that uses nested loops.\n",
    "loss, grad = softmax_loss_naive(W, X_dev, y_dev, 0.0)\n",
    "\n",
    "# As we did for the SVM, use numeric gradient checking as a debugging tool.\n",
    "# The numeric gradient should be close to the analytic gradient.\n",
    "from cs231n.gradient_check import grad_check_sparse\n",
    "f = lambda w: softmax_loss_naive(w, X_dev, y_dev, 0.0)[0]\n",
    "grad_numerical = grad_check_sparse(f, W, grad, 10)\n",
    "\n",
    "# similar to SVM case, do another gradient check with regularization\n",
    "# loss, grad = softmax_loss_naive(W, X_dev, y_dev, 1e2)\n",
    "f = lambda w: softmax_loss_naive(w, X_dev, y_dev, 1e2)[0]\n",
    "grad_numerical = grad_check_sparse(f, W, grad, 10)"
   ]
  },
  {
   "cell_type": "code",
   "execution_count": 9,
   "metadata": {
    "collapsed": false
   },
   "outputs": [
    {
     "name": "stdout",
     "output_type": "stream",
     "text": [
      "naive loss: 2.382180e+00 computed in 0.172726s\n",
      "vectorized loss: 2.382180e+00 computed in 0.007937s\n",
      "Loss difference: 0.000000\n",
      "Gradient difference: 0.000000\n"
     ]
    }
   ],
   "source": [
    "# Now that we have a naive implementation of the softmax loss function and its gradient,\n",
    "# implement a vectorized version in softmax_loss_vectorized.\n",
    "# The two versions should compute the same results, but the vectorized version should be\n",
    "# much faster.\n",
    "tic = time.time()\n",
    "loss_naive, grad_naive = softmax_loss_naive(W, X_dev, y_dev, 0.00001)\n",
    "toc = time.time()\n",
    "print 'naive loss: %e computed in %fs' % (loss_naive, toc - tic)\n",
    "\n",
    "from cs231n.classifiers.softmax import softmax_loss_vectorized\n",
    "tic = time.time()\n",
    "loss_vectorized, grad_vectorized = softmax_loss_vectorized(W, X_dev, y_dev, 0.00001)\n",
    "toc = time.time()\n",
    "print 'vectorized loss: %e computed in %fs' % (loss_vectorized, toc - tic)\n",
    "\n",
    "# As we did for the SVM, we use the Frobenius norm to compare the two versions\n",
    "# of the gradient.\n",
    "grad_difference = np.linalg.norm(grad_naive - grad_vectorized, ord='fro')\n",
    "print 'Loss difference: %f' % np.abs(loss_naive - loss_vectorized)\n",
    "print 'Gradient difference: %f' % grad_difference"
   ]
  },
  {
   "cell_type": "code",
   "execution_count": 70,
   "metadata": {
    "collapsed": false
   },
   "outputs": [
    {
     "name": "stdout",
     "output_type": "stream",
     "text": [
      "lr 1.000000e-10 reg 1.000000e-03 train accuracy: 0.100082 val accuracy: 0.107000\n",
      "lr 1.000000e-10 reg 1.000000e-02 train accuracy: 0.090020 val accuracy: 0.106000\n",
      "lr 1.000000e-10 reg 1.000000e-01 train accuracy: 0.105265 val accuracy: 0.111000\n",
      "lr 1.000000e-10 reg 1.000000e+00 train accuracy: 0.095122 val accuracy: 0.094000\n",
      "lr 1.000000e-10 reg 1.000000e+01 train accuracy: 0.088816 val accuracy: 0.102000\n",
      "lr 1.000000e-10 reg 1.000000e+02 train accuracy: 0.090633 val accuracy: 0.077000\n",
      "lr 1.000000e-10 reg 1.000000e+03 train accuracy: 0.122102 val accuracy: 0.130000\n",
      "lr 1.000000e-10 reg 1.000000e+04 train accuracy: 0.093102 val accuracy: 0.089000\n",
      "lr 1.000000e-10 reg 1.000000e+05 train accuracy: 0.128959 val accuracy: 0.152000\n",
      "lr 1.000000e-10 reg 1.000000e+06 train accuracy: 0.108020 val accuracy: 0.084000\n",
      "lr 1.668101e-08 reg 1.000000e-03 train accuracy: 0.077163 val accuracy: 0.078000\n",
      "lr 1.668101e-08 reg 1.000000e-02 train accuracy: 0.085673 val accuracy: 0.080000\n",
      "lr 1.668101e-08 reg 1.000000e-01 train accuracy: 0.087327 val accuracy: 0.092000\n",
      "lr 1.668101e-08 reg 1.000000e+00 train accuracy: 0.079898 val accuracy: 0.101000\n",
      "lr 1.668101e-08 reg 1.000000e+01 train accuracy: 0.100612 val accuracy: 0.080000\n",
      "lr 1.668101e-08 reg 1.000000e+02 train accuracy: 0.099571 val accuracy: 0.090000\n",
      "lr 1.668101e-08 reg 1.000000e+03 train accuracy: 0.126020 val accuracy: 0.127000\n",
      "lr 1.668101e-08 reg 1.000000e+04 train accuracy: 0.087735 val accuracy: 0.083000\n",
      "lr 1.668101e-08 reg 1.000000e+05 train accuracy: 0.077000 val accuracy: 0.078000\n",
      "lr 1.668101e-08 reg 1.000000e+06 train accuracy: 0.103020 val accuracy: 0.095000\n",
      "lr 2.782559e-06 reg 1.000000e-03 train accuracy: 0.248143 val accuracy: 0.256000\n",
      "lr 2.782559e-06 reg 1.000000e-02 train accuracy: 0.251633 val accuracy: 0.272000\n",
      "lr 2.782559e-06 reg 1.000000e-01 train accuracy: 0.240102 val accuracy: 0.254000\n",
      "lr 2.782559e-06 reg 1.000000e+00 train accuracy: 0.239082 val accuracy: 0.252000\n",
      "lr 2.782559e-06 reg 1.000000e+01 train accuracy: 0.246673 val accuracy: 0.246000\n",
      "lr 2.782559e-06 reg 1.000000e+02 train accuracy: 0.240367 val accuracy: 0.264000\n",
      "lr 2.782559e-06 reg 1.000000e+03 train accuracy: 0.253061 val accuracy: 0.244000\n",
      "lr 2.782559e-06 reg 1.000000e+04 train accuracy: 0.181714 val accuracy: 0.179000\n",
      "lr 2.782559e-06 reg 1.000000e+05 train accuracy: 0.146959 val accuracy: 0.139000\n",
      "lr 2.782559e-06 reg 1.000000e+06 train accuracy: 0.103714 val accuracy: 0.104000\n",
      "lr 4.641589e-04 reg 1.000000e-03 train accuracy: 0.273653 val accuracy: 0.257000\n",
      "lr 4.641589e-04 reg 1.000000e-02 train accuracy: 0.274796 val accuracy: 0.298000\n",
      "lr 4.641589e-04 reg 1.000000e-01 train accuracy: 0.289837 val accuracy: 0.289000\n",
      "lr 4.641589e-04 reg 1.000000e+00 train accuracy: 0.292388 val accuracy: 0.287000\n",
      "lr 4.641589e-04 reg 1.000000e+01 train accuracy: 0.290837 val accuracy: 0.279000\n",
      "lr 4.641589e-04 reg 1.000000e+02 train accuracy: 0.265980 val accuracy: 0.272000\n",
      "lr 4.641589e-04 reg 1.000000e+03 train accuracy: 0.211837 val accuracy: 0.218000\n",
      "lr 4.641589e-04 reg 1.000000e+04 train accuracy: 0.129122 val accuracy: 0.127000\n",
      "lr 4.641589e-04 reg 1.000000e+05 train accuracy: 0.067878 val accuracy: 0.066000\n",
      "lr 4.641589e-04 reg 1.000000e+06 train accuracy: 0.130816 val accuracy: 0.130000\n",
      "lr 7.742637e-02 reg 1.000000e-03 train accuracy: 0.144224 val accuracy: 0.143000\n",
      "lr 7.742637e-02 reg 1.000000e-02 train accuracy: 0.202898 val accuracy: 0.198000\n",
      "lr 7.742637e-02 reg 1.000000e-01 train accuracy: 0.150204 val accuracy: 0.153000\n",
      "lr 7.742637e-02 reg 1.000000e+00 train accuracy: 0.141245 val accuracy: 0.123000\n",
      "lr 7.742637e-02 reg 1.000000e+01 train accuracy: 0.181857 val accuracy: 0.174000\n",
      "lr 7.742637e-02 reg 1.000000e+02 train accuracy: 0.128796 val accuracy: 0.129000\n",
      "lr 7.742637e-02 reg 1.000000e+03 train accuracy: 0.149286 val accuracy: 0.161000\n",
      "lr 7.742637e-02 reg 1.000000e+04 train accuracy: 0.127020 val accuracy: 0.124000\n",
      "lr 7.742637e-02 reg 1.000000e+05 train accuracy: 0.069980 val accuracy: 0.069000\n",
      "lr 7.742637e-02 reg 1.000000e+06 train accuracy: 0.097224 val accuracy: 0.096000\n",
      "lr 1.291550e+01 reg 1.000000e-03 train accuracy: 0.184714 val accuracy: 0.184000\n",
      "lr 1.291550e+01 reg 1.000000e-02 train accuracy: 0.180490 val accuracy: 0.190000\n",
      "lr 1.291550e+01 reg 1.000000e-01 train accuracy: 0.166327 val accuracy: 0.155000\n",
      "lr 1.291550e+01 reg 1.000000e+00 train accuracy: 0.134735 val accuracy: 0.139000\n",
      "lr 1.291550e+01 reg 1.000000e+01 train accuracy: 0.188122 val accuracy: 0.201000\n",
      "lr 1.291550e+01 reg 1.000000e+02 train accuracy: 0.169918 val accuracy: 0.188000\n",
      "lr 1.291550e+01 reg 1.000000e+03 train accuracy: 0.170490 val accuracy: 0.180000\n",
      "lr 1.291550e+01 reg 1.000000e+04 train accuracy: 0.167490 val accuracy: 0.169000\n",
      "lr 1.291550e+01 reg 1.000000e+05 train accuracy: 0.111041 val accuracy: 0.102000\n",
      "lr 1.291550e+01 reg 1.000000e+06 train accuracy: 0.097082 val accuracy: 0.108000\n",
      "lr 2.154435e+03 reg 1.000000e-03 train accuracy: 0.179163 val accuracy: 0.192000\n",
      "lr 2.154435e+03 reg 1.000000e-02 train accuracy: 0.165898 val accuracy: 0.183000\n",
      "lr 2.154435e+03 reg 1.000000e-01 train accuracy: 0.169673 val accuracy: 0.166000\n",
      "lr 2.154435e+03 reg 1.000000e+00 train accuracy: 0.157735 val accuracy: 0.187000\n",
      "lr 2.154435e+03 reg 1.000000e+01 train accuracy: 0.154204 val accuracy: 0.155000\n",
      "lr 2.154435e+03 reg 1.000000e+02 train accuracy: 0.148082 val accuracy: 0.163000\n",
      "lr 2.154435e+03 reg 1.000000e+03 train accuracy: 0.183306 val accuracy: 0.202000\n",
      "lr 2.154435e+03 reg 1.000000e+04 train accuracy: 0.125245 val accuracy: 0.131000\n",
      "lr 2.154435e+03 reg 1.000000e+05 train accuracy: 0.149918 val accuracy: 0.136000\n",
      "lr 2.154435e+03 reg 1.000000e+06 train accuracy: 0.083204 val accuracy: 0.068000\n",
      "lr 3.593814e+05 reg 1.000000e-03 train accuracy: 0.153571 val accuracy: 0.141000\n",
      "lr 3.593814e+05 reg 1.000000e-02 train accuracy: 0.154306 val accuracy: 0.158000\n",
      "lr 3.593814e+05 reg 1.000000e-01 train accuracy: 0.184571 val accuracy: 0.196000\n",
      "lr 3.593814e+05 reg 1.000000e+00 train accuracy: 0.160490 val accuracy: 0.168000\n",
      "lr 3.593814e+05 reg 1.000000e+01 train accuracy: 0.134286 val accuracy: 0.124000\n",
      "lr 3.593814e+05 reg 1.000000e+02 train accuracy: 0.162000 val accuracy: 0.152000\n",
      "lr 3.593814e+05 reg 1.000000e+03 train accuracy: 0.188122 val accuracy: 0.190000\n",
      "lr 3.593814e+05 reg 1.000000e+04 train accuracy: 0.168918 val accuracy: 0.177000\n",
      "lr 3.593814e+05 reg 1.000000e+05 train accuracy: 0.147163 val accuracy: 0.142000\n",
      "lr 3.593814e+05 reg 1.000000e+06 train accuracy: 0.101816 val accuracy: 0.100000\n",
      "lr 5.994843e+07 reg 1.000000e-03 train accuracy: 0.176000 val accuracy: 0.173000\n",
      "lr 5.994843e+07 reg 1.000000e-02 train accuracy: 0.169878 val accuracy: 0.198000\n",
      "lr 5.994843e+07 reg 1.000000e-01 train accuracy: 0.169000 val accuracy: 0.179000\n",
      "lr 5.994843e+07 reg 1.000000e+00 train accuracy: 0.161449 val accuracy: 0.165000\n",
      "lr 5.994843e+07 reg 1.000000e+01 train accuracy: 0.146347 val accuracy: 0.169000\n",
      "lr 5.994843e+07 reg 1.000000e+02 train accuracy: 0.196878 val accuracy: 0.208000\n",
      "lr 5.994843e+07 reg 1.000000e+03 train accuracy: 0.159061 val accuracy: 0.150000\n",
      "lr 5.994843e+07 reg 1.000000e+04 train accuracy: 0.160102 val accuracy: 0.154000\n",
      "lr 5.994843e+07 reg 1.000000e+05 train accuracy: 0.103980 val accuracy: 0.101000\n",
      "lr 5.994843e+07 reg 1.000000e+06 train accuracy: 0.100510 val accuracy: 0.111000\n",
      "lr 1.000000e+10 reg 1.000000e-03 train accuracy: 0.125429 val accuracy: 0.142000\n",
      "lr 1.000000e+10 reg 1.000000e-02 train accuracy: 0.155531 val accuracy: 0.159000\n",
      "lr 1.000000e+10 reg 1.000000e-01 train accuracy: 0.139755 val accuracy: 0.134000\n",
      "lr 1.000000e+10 reg 1.000000e+00 train accuracy: 0.187327 val accuracy: 0.194000\n",
      "lr 1.000000e+10 reg 1.000000e+01 train accuracy: 0.152857 val accuracy: 0.135000\n",
      "lr 1.000000e+10 reg 1.000000e+02 train accuracy: 0.166367 val accuracy: 0.170000\n",
      "lr 1.000000e+10 reg 1.000000e+03 train accuracy: 0.178694 val accuracy: 0.210000\n",
      "lr 1.000000e+10 reg 1.000000e+04 train accuracy: 0.140592 val accuracy: 0.136000\n",
      "lr 1.000000e+10 reg 1.000000e+05 train accuracy: 0.138571 val accuracy: 0.127000\n",
      "lr 1.000000e+10 reg 1.000000e+06 train accuracy: 0.091388 val accuracy: 0.074000\n",
      "best validation accuracy achieved during cross-validation: 0.298000\n"
     ]
    }
   ],
   "source": [
    "# Use the validation set to tune hyperparameters (regularization strength and\n",
    "# learning rate). You should experiment with different ranges for the learning\n",
    "# rates and regularization strengths; if you are careful you should be able to\n",
    "# get a classification accuracy of over 0.35 on the validation set.\n",
    "from cs231n.classifiers import Softmax\n",
    "results = {}\n",
    "best_val = -1\n",
    "best_softmax = None\n",
    "learning_rates = np.logspace(-10, 10, 10)\n",
    "regularization_strengths = np.logspace(-3, 6, 10)\n",
    "num_iters = 100\n",
    "\n",
    "################################################################################\n",
    "# TODO:                                                                        #\n",
    "# Use the validation set to set the learning rate and regularization strength. #\n",
    "# This should be identical to the validation that you did for the SVM; save    #\n",
    "# the best trained softmax classifer in best_softmax.                          #\n",
    "################################################################################\n",
    "for lr in learning_rates:\n",
    "    for rs in regularization_strengths:\n",
    "        softmax = Softmax()\n",
    "        softmax.train(X_train, y_train, learning_rate=lr, reg=rs, num_iters=num_iters)\n",
    "        y_train_pred = softmax.predict(X_train)\n",
    "        score_train = float(np.sum(y_train_pred == y_train)) / len(y_train)\n",
    "        y_val_pred = softmax.predict(X_val)\n",
    "        score_val = float(np.sum(y_val_pred == y_val)) / len(y_val)\n",
    "        results[(lr,rs)] = (score_train, score_val)\n",
    "        if score_val > best_val:\n",
    "            best_val = score_val\n",
    "            best_softmax = softmax\n",
    "\n",
    "################################################################################\n",
    "#                              END OF YOUR CODE                                #\n",
    "################################################################################\n",
    "    \n",
    "# Print out results.\n",
    "for lr, reg in sorted(results):\n",
    "    train_accuracy, val_accuracy = results[(lr, reg)]\n",
    "    print 'lr %e reg %e train accuracy: %f val accuracy: %f' % (\n",
    "                lr, reg, train_accuracy, val_accuracy)\n",
    "    \n",
    "print 'best validation accuracy achieved during cross-validation: %f' % best_val"
   ]
  },
  {
   "cell_type": "code",
   "execution_count": 71,
   "metadata": {
    "collapsed": false
   },
   "outputs": [
    {
     "name": "stdout",
     "output_type": "stream",
     "text": [
      "softmax on raw pixels final test set accuracy: 0.277000\n"
     ]
    }
   ],
   "source": [
    "# evaluate on test set\n",
    "# Evaluate the best softmax on test set\n",
    "y_test_pred = best_softmax.predict(X_test)\n",
    "test_accuracy = np.mean(y_test == y_test_pred)\n",
    "print 'softmax on raw pixels final test set accuracy: %f' % (test_accuracy, )"
   ]
  },
  {
   "cell_type": "code",
   "execution_count": 72,
   "metadata": {
    "collapsed": false
   },
   "outputs": [
    {
     "data": {
      "image/png": "[encoded data removed]",
      "text/plain": [
       "<matplotlib.figure.Figure at 0x1119bca50>"
      ]
     },
     "metadata": {},
     "output_type": "display_data"
    }
   ],
   "source": [
    "# Visualize the learned weights for each class\n",
    "w = best_softmax.W[:-1,:] # strip out the bias\n",
    "w = w.reshape(32, 32, 3, 10)\n",
    "\n",
    "w_min, w_max = np.min(w), np.max(w)\n",
    "\n",
    "classes = ['plane', 'car', 'bird', 'cat', 'deer', 'dog', 'frog', 'horse', 'ship', 'truck']\n",
    "for i in xrange(10):\n",
    "  plt.subplot(2, 5, i + 1)\n",
    "  \n",
    "  # Rescale the weights to be between 0 and 255\n",
    "  wimg = 255.0 * (w[:, :, :, i].squeeze() - w_min) / (w_max - w_min)\n",
    "  plt.imshow(wimg.astype('uint8'))\n",
    "  plt.axis('off')\n",
    "  plt.title(classes[i])"
   ]
  },
  {
   "cell_type": "code",
   "execution_count": null,
   "metadata": {
    "collapsed": true
   },
   "outputs": [],
   "source": []
  }
 ],
 "metadata": {
  "kernelspec": {
   "display_name": "Python 2",
   "language": "python",
   "name": "python2"
  },
  "language_info": {
   "codemirror_mode": {
    "name": "ipython",
    "version": 2
   },
   "file_extension": ".py",
   "mimetype": "text/x-python",
   "name": "python",
   "nbconvert_exporter": "python",
   "pygments_lexer": "ipython2",
   "version": "2.7.12"
  }
 },
 "nbformat": 4,
 "nbformat_minor": 0
}
