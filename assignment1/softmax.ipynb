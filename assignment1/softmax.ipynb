{
 "cells": [
  {
   "cell_type": "markdown",
   "metadata": {},
   "source": [
    "# Softmax exercise\n",
    "\n",
    "*Complete and hand in this completed worksheet (including its outputs and any supporting code outside of the worksheet) with your assignment submission. For more details see the [assignments page](http://vision.stanford.edu/teaching/cs231n/assignments.html) on the course website.*\n",
    "\n",
    "This exercise is analogous to the SVM exercise. You will:\n",
    "\n",
    "- implement a fully-vectorized **loss function** for the Softmax classifier\n",
    "- implement the fully-vectorized expression for its **analytic gradient**\n",
    "- **check your implementation** with numerical gradient\n",
    "- use a validation set to **tune the learning rate and regularization** strength\n",
    "- **optimize** the loss function with **SGD**\n",
    "- **visualize** the final learned weights\n"
   ]
  },
  {
   "cell_type": "code",
   "execution_count": 29,
   "metadata": {
    "collapsed": false
   },
   "outputs": [
    {
     "name": "stdout",
     "output_type": "stream",
     "text": [
      "The autoreload extension is already loaded. To reload it, use:\n",
      "  %reload_ext autoreload\n"
     ]
    }
   ],
   "source": [
    "import random\n",
    "import numpy as np\n",
    "from cs231n.data_utils import load_CIFAR10\n",
    "import matplotlib.pyplot as plt\n",
    "%matplotlib inline\n",
    "plt.rcParams['figure.figsize'] = (10.0, 8.0) # set default size of plots\n",
    "plt.rcParams['image.interpolation'] = 'nearest'\n",
    "plt.rcParams['image.cmap'] = 'gray'\n",
    "\n",
    "# for auto-reloading extenrnal modules\n",
    "# see http://stackoverflow.com/questions/1907993/autoreload-of-modules-in-ipython\n",
    "%load_ext autoreload\n",
    "%autoreload 2"
   ]
  },
  {
   "cell_type": "code",
   "execution_count": 30,
   "metadata": {
    "collapsed": false
   },
   "outputs": [
    {
     "name": "stdout",
     "output_type": "stream",
     "text": [
      "Train data shape:  (49000, 3073)\n",
      "Train labels shape:  (49000,)\n",
      "Validation data shape:  (1000, 3073)\n",
      "Validation labels shape:  (1000,)\n",
      "Test data shape:  (1000, 3073)\n",
      "Test labels shape:  (1000,)\n",
      "dev data shape:  (500, 3073)\n",
      "dev labels shape:  (500,)\n"
     ]
    }
   ],
   "source": [
    "def get_CIFAR10_data(num_training=49000, num_validation=1000, num_test=1000, num_dev=500):\n",
    "  \"\"\"\n",
    "  Load the CIFAR-10 dataset from disk and perform preprocessing to prepare\n",
    "  it for the linear classifier. These are the same steps as we used for the\n",
    "  SVM, but condensed to a single function.  \n",
    "  \"\"\"\n",
    "  # Load the raw CIFAR-10 data\n",
    "  cifar10_dir = 'cs231n/datasets/cifar-10-batches-py'\n",
    "  X_train, y_train, X_test, y_test = load_CIFAR10(cifar10_dir)\n",
    "  \n",
    "  # subsample the data\n",
    "  mask = range(num_training, num_training + num_validation)\n",
    "  X_val = X_train[mask]\n",
    "  y_val = y_train[mask]\n",
    "  mask = range(num_training)\n",
    "  X_train = X_train[mask]\n",
    "  y_train = y_train[mask]\n",
    "  mask = range(num_test)\n",
    "  X_test = X_test[mask]\n",
    "  y_test = y_test[mask]\n",
    "  mask = np.random.choice(num_training, num_dev, replace=False)\n",
    "  X_dev = X_train[mask]\n",
    "  y_dev = y_train[mask]\n",
    "  \n",
    "  # Preprocessing: reshape the image data into rows\n",
    "  X_train = np.reshape(X_train, (X_train.shape[0], -1))\n",
    "  X_val = np.reshape(X_val, (X_val.shape[0], -1))\n",
    "  X_test = np.reshape(X_test, (X_test.shape[0], -1))\n",
    "  X_dev = np.reshape(X_dev, (X_dev.shape[0], -1))\n",
    "  \n",
    "  # Normalize the data: subtract the mean image\n",
    "  mean_image = np.mean(X_train, axis = 0)\n",
    "  X_train -= mean_image\n",
    "  X_val -= mean_image\n",
    "  X_test -= mean_image\n",
    "  X_dev -= mean_image\n",
    "  \n",
    "  # add bias dimension and transform into columns\n",
    "  X_train = np.hstack([X_train, np.ones((X_train.shape[0], 1))])\n",
    "  X_val = np.hstack([X_val, np.ones((X_val.shape[0], 1))])\n",
    "  X_test = np.hstack([X_test, np.ones((X_test.shape[0], 1))])\n",
    "  X_dev = np.hstack([X_dev, np.ones((X_dev.shape[0], 1))])\n",
    "  \n",
    "  return X_train, y_train, X_val, y_val, X_test, y_test, X_dev, y_dev\n",
    "\n",
    "\n",
    "# Invoke the above function to get our data.\n",
    "X_train, y_train, X_val, y_val, X_test, y_test, X_dev, y_dev = get_CIFAR10_data()\n",
    "print 'Train data shape: ', X_train.shape\n",
    "print 'Train labels shape: ', y_train.shape\n",
    "print 'Validation data shape: ', X_val.shape\n",
    "print 'Validation labels shape: ', y_val.shape\n",
    "print 'Test data shape: ', X_test.shape\n",
    "print 'Test labels shape: ', y_test.shape\n",
    "print 'dev data shape: ', X_dev.shape\n",
    "print 'dev labels shape: ', y_dev.shape"
   ]
  },
  {
   "cell_type": "markdown",
   "metadata": {},
   "source": [
    "## Softmax Classifier\n",
    "\n",
    "Your code for this section will all be written inside **cs231n/classifiers/softmax.py**. \n"
   ]
  },
  {
   "cell_type": "code",
   "execution_count": 31,
   "metadata": {
    "collapsed": false
   },
   "outputs": [
    {
     "name": "stdout",
     "output_type": "stream",
     "text": [
      "loss: 2.358809\n",
      "sanity check: 2.302585\n"
     ]
    }
   ],
   "source": [
    "# First implement the naive softmax loss function with nested loops.\n",
    "# Open the file cs231n/classifiers/softmax.py and implement the\n",
    "# softmax_loss_naive function.\n",
    "\n",
    "from cs231n.classifiers.softmax import softmax_loss_naive\n",
    "import time\n",
    "\n",
    "# Generate a random softmax weight matrix and use it to compute the loss.\n",
    "W = np.random.randn(3073, 10) * 0.0001\n",
    "loss, grad = softmax_loss_naive(W, X_dev, y_dev, 0.0)\n",
    "\n",
    "# As a rough sanity check, our loss should be something close to -log(0.1).\n",
    "print 'loss: %f' % loss\n",
    "print 'sanity check: %f' % (-np.log(0.1))"
   ]
  },
  {
   "cell_type": "markdown",
   "metadata": {},
   "source": [
    "## Inline Question 1:\n",
    "Why do we expect our loss to be close to -log(0.1)? Explain briefly.**\n",
    "\n",
    "**Your answer:** *Fill this in*\n"
   ]
  },
  {
   "cell_type": "code",
   "execution_count": 32,
   "metadata": {
    "collapsed": false
   },
   "outputs": [
    {
     "name": "stdout",
     "output_type": "stream",
     "text": [
      "numerical: 0.297099 analytic: 0.297099, relative error: 5.519540e-08\n",
      "numerical: 1.533392 analytic: 1.533392, relative error: 1.511113e-09\n",
      "numerical: -2.881176 analytic: -2.881176, relative error: 6.027244e-09\n",
      "numerical: 3.721677 analytic: 3.721677, relative error: 2.610780e-10\n",
      "numerical: -1.505373 analytic: -1.505373, relative error: 1.495053e-08\n",
      "numerical: -0.466451 analytic: -0.466451, relative error: 3.481657e-09\n",
      "numerical: -2.616730 analytic: -2.616730, relative error: 2.038169e-09\n",
      "numerical: -0.313777 analytic: -0.313777, relative error: 5.719964e-08\n",
      "numerical: -0.086961 analytic: -0.086961, relative error: 1.057114e-07\n",
      "numerical: 0.611895 analytic: 0.611895, relative error: 3.370665e-08\n",
      "numerical: 1.657752 analytic: 1.657883, relative error: 3.954603e-05\n",
      "numerical: -2.879857 analytic: -2.885456, relative error: 9.711694e-04\n",
      "numerical: -0.197362 analytic: -0.187977, relative error: 2.435693e-02\n",
      "numerical: -0.579445 analytic: -0.578044, relative error: 1.211047e-03\n",
      "numerical: -0.557635 analytic: -0.541053, relative error: 1.509272e-02\n",
      "numerical: 0.181908 analytic: 0.171681, relative error: 2.892425e-02\n",
      "numerical: 2.118197 analytic: 2.126671, relative error: 1.996446e-03\n",
      "numerical: 1.741680 analytic: 1.737280, relative error: 1.264839e-03\n",
      "numerical: 0.642300 analytic: 0.644983, relative error: 2.084273e-03\n",
      "numerical: 3.224215 analytic: 3.231123, relative error: 1.070220e-03\n"
     ]
    }
   ],
   "source": [
    "#### Complete the implementation of softmax_loss_naive and implement a (naive)\n",
    "# version of the gradient that uses nested loops.\n",
    "loss, grad = softmax_loss_naive(W, X_dev, y_dev, 0.0)\n",
    "\n",
    "# As we did for the SVM, use numeric gradient checking as a debugging tool.\n",
    "# The numeric gradient should be close to the analytic gradient.\n",
    "from cs231n.gradient_check import grad_check_sparse\n",
    "f = lambda w: softmax_loss_naive(w, X_dev, y_dev, 0.0)[0]\n",
    "grad_numerical = grad_check_sparse(f, W, grad, 10)\n",
    "\n",
    "# similar to SVM case, do another gradient check with regularization\n",
    "# loss, grad = softmax_loss_naive(W, X_dev, y_dev, 1e2)\n",
    "f = lambda w: softmax_loss_naive(w, X_dev, y_dev, 1e2)[0]\n",
    "grad_numerical = grad_check_sparse(f, W, grad, 10)"
   ]
  },
  {
   "cell_type": "code",
   "execution_count": null,
   "metadata": {
    "collapsed": false
   },
   "outputs": [
    {
     "name": "stdout",
     "output_type": "stream",
     "text": [
      "naive loss: 2.358809e+00 computed in 0.133891s\n",
      "vectorized loss: 2.358809e+00 computed in 0.011734s\n",
      "Loss difference: 0.000000\n",
      "Gradient difference: 0.000000\n"
     ]
    }
   ],
   "source": [
    "# Now that we have a naive implementation of the softmax loss function and its gradient,\n",
    "# implement a vectorized version in softmax_loss_vectorized.\n",
    "# The two versions should compute the same results, but the vectorized version should be\n",
    "# much faster.\n",
    "tic = time.time()\n",
    "loss_naive, grad_naive = softmax_loss_naive(W, X_dev, y_dev, 0.00001)\n",
    "toc = time.time()\n",
    "print 'naive loss: %e computed in %fs' % (loss_naive, toc - tic)\n",
    "\n",
    "from cs231n.classifiers.softmax import softmax_loss_vectorized\n",
    "tic = time.time()\n",
    "loss_vectorized, grad_vectorized = softmax_loss_vectorized(W, X_dev, y_dev, 0.00001)\n",
    "toc = time.time()\n",
    "print 'vectorized loss: %e computed in %fs' % (loss_vectorized, toc - tic)\n",
    "\n",
    "# As we did for the SVM, we use the Frobenius norm to compare the two versions\n",
    "# of the gradient.\n",
    "grad_difference = np.linalg.norm(grad_naive - grad_vectorized, ord='fro')\n",
    "print 'Loss difference: %f' % np.abs(loss_naive - loss_vectorized)\n",
    "print 'Gradient difference: %f' % grad_difference"
   ]
  },
  {
   "cell_type": "code",
   "execution_count": null,
   "metadata": {
    "collapsed": false
   },
   "outputs": [
    {
     "name": "stderr",
     "output_type": "stream",
     "text": [
      "cs231n/classifiers/softmax.py:89: RuntimeWarning: overflow encountered in exp\n",
      "  scores_exp_sum = np.sum(scores_exp, axis=1)\n",
      "cs231n/classifiers/softmax.py:91: RuntimeWarning: invalid value encountered in divide\n",
      "  \n",
      "cs231n/classifiers/softmax.py:95: RuntimeWarning: divide by zero encountered in log\n",
      "  loss = np.sum(scores_loss)\n"
     ]
    },
    {
     "name": "stdout",
     "output_type": "stream",
     "text": [
      "lr 1.000000e-10 reg 1.000000e-03 train accuracy: 0.107918 val accuracy: 0.112000\n",
      "lr 1.000000e-10 reg 1.000000e-02 train accuracy: 0.117204 val accuracy: 0.114000\n",
      "lr 1.000000e-10 reg 1.000000e-01 train accuracy: 0.100245 val accuracy: 0.100000\n",
      "lr 1.000000e-10 reg 1.000000e+00 train accuracy: 0.081306 val accuracy: 0.088000\n",
      "lr 1.000000e-10 reg 1.000000e+01 train accuracy: 0.132571 val accuracy: 0.121000\n",
      "lr 1.000000e-10 reg 1.000000e+02 train accuracy: 0.086857 val accuracy: 0.088000\n",
      "lr 1.000000e-10 reg 1.000000e+03 train accuracy: 0.093000 val accuracy: 0.095000\n",
      "lr 1.000000e-10 reg 1.000000e+04 train accuracy: 0.142837 val accuracy: 0.119000\n",
      "lr 1.000000e-10 reg 1.000000e+05 train accuracy: 0.116837 val accuracy: 0.099000\n",
      "lr 1.000000e-10 reg 1.000000e+06 train accuracy: 0.109367 val accuracy: 0.107000\n",
      "lr 1.668101e-08 reg 1.000000e-03 train accuracy: 0.125796 val accuracy: 0.149000\n",
      "lr 1.668101e-08 reg 1.000000e-02 train accuracy: 0.097959 val accuracy: 0.090000\n",
      "lr 1.668101e-08 reg 1.000000e-01 train accuracy: 0.073857 val accuracy: 0.070000\n",
      "lr 1.668101e-08 reg 1.000000e+00 train accuracy: 0.075796 val accuracy: 0.078000\n",
      "lr 1.668101e-08 reg 1.000000e+01 train accuracy: 0.078122 val accuracy: 0.081000\n",
      "lr 1.668101e-08 reg 1.000000e+02 train accuracy: 0.095327 val accuracy: 0.095000\n",
      "lr 1.668101e-08 reg 1.000000e+03 train accuracy: 0.119102 val accuracy: 0.113000\n",
      "lr 1.668101e-08 reg 1.000000e+04 train accuracy: 0.087327 val accuracy: 0.079000\n",
      "lr 1.668101e-08 reg 1.000000e+05 train accuracy: 0.095020 val accuracy: 0.085000\n",
      "lr 1.668101e-08 reg 1.000000e+06 train accuracy: 0.100388 val accuracy: 0.110000\n",
      "lr 2.782559e-06 reg 1.000000e-03 train accuracy: 0.235306 val accuracy: 0.251000\n",
      "lr 2.782559e-06 reg 1.000000e-02 train accuracy: 0.233857 val accuracy: 0.241000\n",
      "lr 2.782559e-06 reg 1.000000e-01 train accuracy: 0.237653 val accuracy: 0.244000\n",
      "lr 2.782559e-06 reg 1.000000e+00 train accuracy: 0.240143 val accuracy: 0.231000\n",
      "lr 2.782559e-06 reg 1.000000e+01 train accuracy: 0.238673 val accuracy: 0.238000\n",
      "lr 2.782559e-06 reg 1.000000e+02 train accuracy: 0.247510 val accuracy: 0.253000\n",
      "lr 2.782559e-06 reg 1.000000e+03 train accuracy: 0.225408 val accuracy: 0.242000\n",
      "lr 2.782559e-06 reg 1.000000e+04 train accuracy: 0.169612 val accuracy: 0.177000\n",
      "lr 2.782559e-06 reg 1.000000e+05 train accuracy: 0.119306 val accuracy: 0.112000\n",
      "lr 2.782559e-06 reg 1.000000e+06 train accuracy: 0.082980 val accuracy: 0.084000\n",
      "lr 4.641589e-04 reg 1.000000e-03 train accuracy: 0.306857 val accuracy: 0.312000\n",
      "lr 4.641589e-04 reg 1.000000e-02 train accuracy: 0.280245 val accuracy: 0.288000\n",
      "lr 4.641589e-04 reg 1.000000e-01 train accuracy: 0.297490 val accuracy: 0.303000\n",
      "lr 4.641589e-04 reg 1.000000e+00 train accuracy: 0.287408 val accuracy: 0.297000\n",
      "lr 4.641589e-04 reg 1.000000e+01 train accuracy: 0.266939 val accuracy: 0.271000\n",
      "lr 4.641589e-04 reg 1.000000e+02 train accuracy: 0.247531 val accuracy: 0.231000\n",
      "lr 4.641589e-04 reg 1.000000e+03 train accuracy: 0.249429 val accuracy: 0.266000\n",
      "lr 4.641589e-04 reg 1.000000e+04 train accuracy: 0.160816 val accuracy: 0.170000\n",
      "lr 4.641589e-04 reg 1.000000e+05 train accuracy: 0.073857 val accuracy: 0.076000\n",
      "lr 4.641589e-04 reg 1.000000e+06 train accuracy: 0.101204 val accuracy: 0.102000\n",
      "lr 7.742637e-02 reg 1.000000e-03 train accuracy: 0.228592 val accuracy: 0.250000\n",
      "lr 7.742637e-02 reg 1.000000e-02 train accuracy: 0.179184 val accuracy: 0.192000\n",
      "lr 7.742637e-02 reg 1.000000e-01 train accuracy: 0.170735 val accuracy: 0.178000\n",
      "lr 7.742637e-02 reg 1.000000e+00 train accuracy: 0.167408 val accuracy: 0.168000\n",
      "lr 7.742637e-02 reg 1.000000e+01 train accuracy: 0.175327 val accuracy: 0.179000\n",
      "lr 7.742637e-02 reg 1.000000e+02 train accuracy: 0.177449 val accuracy: 0.168000\n",
      "lr 7.742637e-02 reg 1.000000e+03 train accuracy: 0.162612 val accuracy: 0.188000\n",
      "lr 7.742637e-02 reg 1.000000e+04 train accuracy: 0.189020 val accuracy: 0.165000\n",
      "lr 7.742637e-02 reg 1.000000e+05 train accuracy: 0.124041 val accuracy: 0.120000\n",
      "lr 7.742637e-02 reg 1.000000e+06 train accuracy: 0.079327 val accuracy: 0.083000\n",
      "lr 1.291550e+01 reg 1.000000e-03 train accuracy: 0.158449 val accuracy: 0.158000\n",
      "lr 1.291550e+01 reg 1.000000e-02 train accuracy: 0.203388 val accuracy: 0.193000\n",
      "lr 1.291550e+01 reg 1.000000e-01 train accuracy: 0.158857 val accuracy: 0.149000\n",
      "lr 1.291550e+01 reg 1.000000e+00 train accuracy: 0.182878 val accuracy: 0.188000\n",
      "lr 1.291550e+01 reg 1.000000e+01 train accuracy: 0.141796 val accuracy: 0.132000\n",
      "lr 1.291550e+01 reg 1.000000e+02 train accuracy: 0.164184 val accuracy: 0.168000\n",
      "lr 1.291550e+01 reg 1.000000e+03 train accuracy: 0.193429 val accuracy: 0.184000\n",
      "lr 1.291550e+01 reg 1.000000e+04 train accuracy: 0.133633 val accuracy: 0.144000\n",
      "lr 1.291550e+01 reg 1.000000e+05 train accuracy: 0.131245 val accuracy: 0.124000\n",
      "lr 1.291550e+01 reg 1.000000e+06 train accuracy: 0.117653 val accuracy: 0.116000\n",
      "lr 2.154435e+03 reg 1.000000e-03 train accuracy: 0.168551 val accuracy: 0.140000\n",
      "lr 2.154435e+03 reg 1.000000e-02 train accuracy: 0.144184 val accuracy: 0.146000\n",
      "lr 2.154435e+03 reg 1.000000e-01 train accuracy: 0.173429 val accuracy: 0.186000\n",
      "lr 2.154435e+03 reg 1.000000e+00 train accuracy: 0.200367 val accuracy: 0.201000\n",
      "lr 2.154435e+03 reg 1.000000e+01 train accuracy: 0.158510 val accuracy: 0.157000\n",
      "lr 2.154435e+03 reg 1.000000e+02 train accuracy: 0.174388 val accuracy: 0.171000\n",
      "lr 2.154435e+03 reg 1.000000e+03 train accuracy: 0.182673 val accuracy: 0.193000\n",
      "lr 2.154435e+03 reg 1.000000e+04 train accuracy: 0.117224 val accuracy: 0.114000\n",
      "lr 2.154435e+03 reg 1.000000e+05 train accuracy: 0.115245 val accuracy: 0.123000\n",
      "lr 2.154435e+03 reg 1.000000e+06 train accuracy: 0.100143 val accuracy: 0.109000\n",
      "lr 3.593814e+05 reg 1.000000e-03 train accuracy: 0.161265 val accuracy: 0.156000\n",
      "lr 3.593814e+05 reg 1.000000e-02 train accuracy: 0.174735 val accuracy: 0.159000\n",
      "lr 3.593814e+05 reg 1.000000e-01 train accuracy: 0.172633 val accuracy: 0.172000\n",
      "lr 3.593814e+05 reg 1.000000e+00 train accuracy: 0.181469 val accuracy: 0.155000\n",
      "lr 3.593814e+05 reg 1.000000e+01 train accuracy: 0.141327 val accuracy: 0.139000\n",
      "lr 3.593814e+05 reg 1.000000e+02 train accuracy: 0.150469 val accuracy: 0.150000\n",
      "lr 3.593814e+05 reg 1.000000e+03 train accuracy: 0.145224 val accuracy: 0.155000\n",
      "lr 3.593814e+05 reg 1.000000e+04 train accuracy: 0.091673 val accuracy: 0.106000\n",
      "lr 3.593814e+05 reg 1.000000e+05 train accuracy: 0.099531 val accuracy: 0.096000\n",
      "lr 3.593814e+05 reg 1.000000e+06 train accuracy: 0.114878 val accuracy: 0.111000\n",
      "lr 5.994843e+07 reg 1.000000e-03 train accuracy: 0.194959 val accuracy: 0.206000\n",
      "lr 5.994843e+07 reg 1.000000e-02 train accuracy: 0.196469 val accuracy: 0.188000\n",
      "lr 5.994843e+07 reg 1.000000e-01 train accuracy: 0.160510 val accuracy: 0.170000\n",
      "lr 5.994843e+07 reg 1.000000e+00 train accuracy: 0.140735 val accuracy: 0.126000\n",
      "lr 5.994843e+07 reg 1.000000e+01 train accuracy: 0.119510 val accuracy: 0.111000\n",
      "lr 5.994843e+07 reg 1.000000e+02 train accuracy: 0.168327 val accuracy: 0.172000\n",
      "lr 5.994843e+07 reg 1.000000e+03 train accuracy: 0.172020 val accuracy: 0.188000\n",
      "lr 5.994843e+07 reg 1.000000e+04 train accuracy: 0.193020 val accuracy: 0.213000\n",
      "lr 5.994843e+07 reg 1.000000e+05 train accuracy: 0.150449 val accuracy: 0.136000\n",
      "lr 5.994843e+07 reg 1.000000e+06 train accuracy: 0.080306 val accuracy: 0.074000\n",
      "lr 1.000000e+10 reg 1.000000e-03 train accuracy: 0.155490 val accuracy: 0.166000\n",
      "lr 1.000000e+10 reg 1.000000e-02 train accuracy: 0.144245 val accuracy: 0.137000\n",
      "lr 1.000000e+10 reg 1.000000e-01 train accuracy: 0.146184 val accuracy: 0.151000\n",
      "lr 1.000000e+10 reg 1.000000e+00 train accuracy: 0.172122 val accuracy: 0.158000\n",
      "lr 1.000000e+10 reg 1.000000e+01 train accuracy: 0.147020 val accuracy: 0.144000\n",
      "lr 1.000000e+10 reg 1.000000e+02 train accuracy: 0.156816 val accuracy: 0.169000\n",
      "lr 1.000000e+10 reg 1.000000e+03 train accuracy: 0.132000 val accuracy: 0.138000\n",
      "lr 1.000000e+10 reg 1.000000e+04 train accuracy: 0.156367 val accuracy: 0.166000\n",
      "lr 1.000000e+10 reg 1.000000e+05 train accuracy: 0.101857 val accuracy: 0.127000\n",
      "lr 1.000000e+10 reg 1.000000e+06 train accuracy: 0.086245 val accuracy: 0.092000\n",
      "best validation accuracy achieved during cross-validation: 0.312000\n"
     ]
    }
   ],
   "source": [
    "# Use the validation set to tune hyperparameters (regularization strength and\n",
    "# learning rate). You should experiment with different ranges for the learning\n",
    "# rates and regularization strengths; if you are careful you should be able to\n",
    "# get a classification accuracy of over 0.35 on the validation set.\n",
    "from cs231n.classifiers import Softmax\n",
    "results = {}\n",
    "best_val = -1\n",
    "best_softmax = None\n",
    "learning_rates = np.logspace(-10, 10, 10) #[4.641589e-04] #np.logspace(-10, 10, 10)\n",
    "regularization_strengths = np.logspace(-3, 6, 10) #[1.000000e-02] #np.logspace(-3, 6, 10)\n",
    "num_iters = 100\n",
    "\n",
    "################################################################################\n",
    "# TODO:                                                                        #\n",
    "# Use the validation set to set the learning rate and regularization strength. #\n",
    "# This should be identical to the validation that you did for the SVM; save    #\n",
    "# the best trained softmax classifer in best_softmax.                          #\n",
    "################################################################################\n",
    "for lr in learning_rates:\n",
    "    for rs in regularization_strengths:\n",
    "        softmax = Softmax()\n",
    "        softmax.train(X_train, y_train, learning_rate=lr, reg=rs, num_iters=num_iters)\n",
    "        y_train_pred = softmax.predict(X_train)\n",
    "        score_train = float(np.sum(y_train_pred == y_train)) / len(y_train)\n",
    "        y_val_pred = softmax.predict(X_val)\n",
    "        score_val = float(np.sum(y_val_pred == y_val)) / len(y_val)\n",
    "        results[(lr,rs)] = (score_train, score_val)\n",
    "        if score_val > best_val:\n",
    "            best_val = score_val\n",
    "            best_softmax = softmax\n",
    "\n",
    "################################################################################\n",
    "#                              END OF YOUR CODE                                #\n",
    "################################################################################\n",
    "    \n",
    "# Print out results.\n",
    "for lr, reg in sorted(results):\n",
    "    train_accuracy, val_accuracy = results[(lr, reg)]\n",
    "    print 'lr %e reg %e train accuracy: %f val accuracy: %f' % (\n",
    "                lr, reg, train_accuracy, val_accuracy)\n",
    "    \n",
    "print 'best validation accuracy achieved during cross-validation: %f' % best_val"
   ]
  },
  {
   "cell_type": "code",
   "execution_count": null,
   "metadata": {
    "collapsed": false
   },
   "outputs": [],
   "source": [
    "# evaluate on test set\n",
    "# Evaluate the best softmax on test set\n",
    "y_test_pred = best_softmax.predict(X_test)\n",
    "test_accuracy = np.mean(y_test == y_test_pred)\n",
    "print 'softmax on raw pixels final test set accuracy: %f' % (test_accuracy, )"
   ]
  },
  {
   "cell_type": "code",
   "execution_count": null,
   "metadata": {
    "collapsed": false
   },
   "outputs": [],
   "source": [
    "# Visualize the learned weights for each class\n",
    "w = best_softmax.W[:-1,:] # strip out the bias\n",
    "w = w.reshape(32, 32, 3, 10)\n",
    "\n",
    "w_min, w_max = np.min(w), np.max(w)\n",
    "\n",
    "classes = ['plane', 'car', 'bird', 'cat', 'deer', 'dog', 'frog', 'horse', 'ship', 'truck']\n",
    "for i in xrange(10):\n",
    "  plt.subplot(2, 5, i + 1)\n",
    "  \n",
    "  # Rescale the weights to be between 0 and 255\n",
    "  wimg = 255.0 * (w[:, :, :, i].squeeze() - w_min) / (w_max - w_min)\n",
    "  plt.imshow(wimg.astype('uint8'))\n",
    "  plt.axis('off')\n",
    "  plt.title(classes[i])"
   ]
  }
 ],
 "metadata": {
  "kernelspec": {
   "display_name": "Python 2",
   "language": "python",
   "name": "python2"
  },
  "language_info": {
   "codemirror_mode": {
    "name": "ipython",
    "version": 2
   },
   "file_extension": ".py",
   "mimetype": "text/x-python",
   "name": "python",
   "nbconvert_exporter": "python",
   "pygments_lexer": "ipython2",
   "version": "2.7.12"
  }
 },
 "nbformat": 4,
 "nbformat_minor": 0
}
